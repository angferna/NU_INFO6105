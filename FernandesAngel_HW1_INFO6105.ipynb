{
 "cells": [
  {
   "cell_type": "markdown",
   "id": "3b0ea98a",
   "metadata": {},
   "source": [
    "### 1. Create Numpy Arrays: total 50 points"
   ]
  },
  {
   "cell_type": "code",
   "execution_count": 1,
   "id": "881443f6",
   "metadata": {},
   "outputs": [],
   "source": [
    "import numpy as np"
   ]
  },
  {
   "cell_type": "markdown",
   "id": "1edd8beb",
   "metadata": {},
   "source": [
    "1). Convert a Python list x=[[1,2,3],[4,5,6]] into a Numpy array."
   ]
  },
  {
   "cell_type": "code",
   "execution_count": 2,
   "id": "494ce522",
   "metadata": {},
   "outputs": [
    {
     "data": {
      "text/plain": [
       "array([[1, 2, 3],\n",
       "       [4, 5, 6]])"
      ]
     },
     "execution_count": 2,
     "metadata": {},
     "output_type": "execute_result"
    }
   ],
   "source": [
    "x=np.array([[1,2,3],[4,5,6]])\n",
    "x"
   ]
  },
  {
   "cell_type": "code",
   "execution_count": null,
   "id": "054edabb",
   "metadata": {},
   "outputs": [],
   "source": []
  },
  {
   "cell_type": "markdown",
   "id": "29754772",
   "metadata": {},
   "source": [
    "Use one line to create a 3x2 2D array with shape of (3,2), filled with 1-6. "
   ]
  },
  {
   "cell_type": "code",
   "execution_count": 3,
   "id": "287e3b65",
   "metadata": {},
   "outputs": [
    {
     "data": {
      "text/plain": [
       "array([[1, 2],\n",
       "       [3, 4],\n",
       "       [5, 6]])"
      ]
     },
     "execution_count": 3,
     "metadata": {},
     "output_type": "execute_result"
    }
   ],
   "source": [
    "q2 = np.arange(1,7).reshape(3,2)\n",
    "q2"
   ]
  },
  {
   "cell_type": "code",
   "execution_count": null,
   "id": "623af6d6",
   "metadata": {},
   "outputs": [],
   "source": []
  },
  {
   "cell_type": "markdown",
   "id": "4181d1d7",
   "metadata": {},
   "source": [
    "3). Use one line to create an array of 2, 4, 6, 8, ..., 98, 100; and find the mean value. "
   ]
  },
  {
   "cell_type": "code",
   "execution_count": 4,
   "id": "89ea8f86",
   "metadata": {},
   "outputs": [
    {
     "data": {
      "text/plain": [
       "51.0"
      ]
     },
     "execution_count": 4,
     "metadata": {},
     "output_type": "execute_result"
    }
   ],
   "source": [
    "q3 = np.arange(2,101).mean()\n",
    "q3"
   ]
  },
  {
   "cell_type": "code",
   "execution_count": null,
   "id": "ac285501",
   "metadata": {},
   "outputs": [],
   "source": []
  },
  {
   "cell_type": "markdown",
   "id": "88e146a5",
   "metadata": {},
   "source": [
    "4). Create an 3x3x3 array filled with arbitrary float numbers; and find the minimum and maximum values. "
   ]
  },
  {
   "cell_type": "code",
   "execution_count": 5,
   "id": "073e2cc8",
   "metadata": {},
   "outputs": [
    {
     "name": "stdout",
     "output_type": "stream",
     "text": [
      "[[[0.80194609 0.84442174 0.60458262]\n",
      "  [0.70488754 0.84790967 0.359724  ]\n",
      "  [0.32410548 0.43987175 0.85772322]]\n",
      "\n",
      " [[0.48663    0.93702691 0.40908856]\n",
      "  [0.81606305 0.54390856 0.75652079]\n",
      "  [0.70679984 0.81215034 0.73383134]]\n",
      "\n",
      " [[0.76728733 0.84989972 0.36068875]\n",
      "  [0.15387992 0.6287457  0.40344215]\n",
      "  [0.46383066 0.37320246 0.74865531]]]\n",
      "Minimum value is: \n",
      "0.15387991932067868\n",
      "Maximum value is: \n",
      "0.9370269126892685\n"
     ]
    }
   ],
   "source": [
    "q4 = np.random.rand(3, 3, 3)\n",
    "print(q4)\n",
    "minq4 = q4.min()\n",
    "print(\"Minimum value is: \")\n",
    "print(minq4)\n",
    "maxq4 = q4.max()\n",
    "print(\"Maximum value is: \")\n",
    "print(maxq4)"
   ]
  },
  {
   "cell_type": "code",
   "execution_count": null,
   "id": "c0fd9d8f",
   "metadata": {},
   "outputs": [],
   "source": []
  },
  {
   "cell_type": "markdown",
   "id": "d7011ae0",
   "metadata": {},
   "source": [
    "5). Create a 3x4 2D array filled with values from 10 to 21 (included)."
   ]
  },
  {
   "cell_type": "code",
   "execution_count": 6,
   "id": "380d80e4",
   "metadata": {},
   "outputs": [
    {
     "data": {
      "text/plain": [
       "array([[10, 11, 12, 13],\n",
       "       [14, 15, 16, 17],\n",
       "       [18, 19, 20, 21]])"
      ]
     },
     "execution_count": 6,
     "metadata": {},
     "output_type": "execute_result"
    }
   ],
   "source": [
    "q5 = np.arange(10,22).reshape(3,4)\n",
    "q5"
   ]
  },
  {
   "cell_type": "code",
   "execution_count": null,
   "id": "03659e92",
   "metadata": {},
   "outputs": [],
   "source": []
  },
  {
   "cell_type": "markdown",
   "id": "e759ec08",
   "metadata": {},
   "source": [
    "6). Create a numpy array of length 10, starting from 5 and has a step of 3 between consecutive numbers."
   ]
  },
  {
   "cell_type": "code",
   "execution_count": 7,
   "id": "584a1b0d",
   "metadata": {},
   "outputs": [
    {
     "data": {
      "text/plain": [
       "array([ 5,  8, 11, 14, 17, 20, 23, 26, 29, 32])"
      ]
     },
     "execution_count": 7,
     "metadata": {},
     "output_type": "execute_result"
    }
   ],
   "source": [
    "q6 = np.arange(5, 35, 3) #5+10*3 = 35\n",
    "q6"
   ]
  },
  {
   "cell_type": "code",
   "execution_count": null,
   "id": "bc1d7e0b",
   "metadata": {},
   "outputs": [],
   "source": []
  },
  {
   "cell_type": "markdown",
   "id": "611fb589",
   "metadata": {},
   "source": [
    "7). Create a shape (10,10) array with arbitrary values; and find the memory size of this array.  "
   ]
  },
  {
   "cell_type": "code",
   "execution_count": 8,
   "id": "fa0b3b5b",
   "metadata": {},
   "outputs": [
    {
     "name": "stdout",
     "output_type": "stream",
     "text": [
      "[[3 7 3 6 4 7 3 0 2 6]\n",
      " [6 9 2 4 9 1 7 9 9 6]\n",
      " [8 1 7 6 5 9 8 2 9 8]\n",
      " [3 6 7 2 2 1 4 9 3 3]\n",
      " [9 4 0 6 7 4 9 0 8 2]\n",
      " [7 4 6 7 8 6 6 4 0 1]\n",
      " [1 7 1 1 2 7 3 4 6 5]\n",
      " [4 3 9 2 7 1 4 6 2 2]\n",
      " [1 0 2 1 6 9 0 7 4 5]\n",
      " [9 4 1 8 8 2 5 6 1 0]]\n",
      "Memory size is: 800\n"
     ]
    }
   ],
   "source": [
    "rng = np.random.default_rng(seed=21)\n",
    "q7 = rng.integers(10, size=(10, 10))\n",
    "print(q7)\n",
    "sizeq7 = q7.nbytes\n",
    "print(\"Memory size is: \"+str(sizeq7))"
   ]
  },
  {
   "cell_type": "code",
   "execution_count": null,
   "id": "c9565519",
   "metadata": {},
   "outputs": [],
   "source": []
  },
  {
   "cell_type": "markdown",
   "id": "ccfcb682",
   "metadata": {},
   "source": [
    "8). Create a 1-d array of size 10 with arbitrary values but the fifth value should be 5. "
   ]
  },
  {
   "cell_type": "code",
   "execution_count": 9,
   "id": "c72d6a0a",
   "metadata": {},
   "outputs": [
    {
     "name": "stdout",
     "output_type": "stream",
     "text": [
      "Original array: [3 7 3 6 4 7 3 0 2 6]\n",
      "Array with 5th value as 5: \n",
      "[3 7 3 6 5 7 3 0 2 6]\n"
     ]
    }
   ],
   "source": [
    "rng = np.random.default_rng(seed=21)\n",
    "q8 = rng.integers(10, size=10)\n",
    "print(\"Original array: \"+str(q8))\n",
    "\n",
    "q8[4] = 5\n",
    "print(\"Array with 5th value as 5: \")\n",
    "print(q8)"
   ]
  },
  {
   "cell_type": "code",
   "execution_count": null,
   "id": "cd43d578",
   "metadata": {},
   "outputs": [],
   "source": []
  },
  {
   "cell_type": "markdown",
   "id": "bef5f182",
   "metadata": {},
   "source": [
    "9). Create an array with values ranging from 10 to 49 (included); and reverse it then (first element becomes last). "
   ]
  },
  {
   "cell_type": "code",
   "execution_count": 10,
   "id": "14562dfc",
   "metadata": {},
   "outputs": [
    {
     "name": "stdout",
     "output_type": "stream",
     "text": [
      "Original array: \n",
      "[10 11 12 13 14 15 16 17 18 19 20 21 22 23 24 25 26 27 28 29 30 31 32 33\n",
      " 34 35 36 37 38 39 40 41 42 43 44 45 46 47 48 49]\n",
      "New array: \n",
      "[49 48 47 46 45 44 43 42 41 40 39 38 37 36 35 34 33 32 31 30 29 28 27 26\n",
      " 25 24 23 22 21 20 19 18 17 16 15 14 13 12 11 10]\n"
     ]
    }
   ],
   "source": [
    "q9 = np.arange(10,50)\n",
    "print(\"Original array: \")\n",
    "print(q9)\n",
    "\n",
    "reverseq9 = q9[::-1]\n",
    "print(\"New array: \")\n",
    "print(reverseq9)"
   ]
  },
  {
   "cell_type": "code",
   "execution_count": null,
   "id": "4167c182",
   "metadata": {},
   "outputs": [],
   "source": []
  },
  {
   "cell_type": "markdown",
   "id": "b01b31fb",
   "metadata": {},
   "source": [
    "10). Create an array of shape (3, 2) with random values from a uniform distribution over [0, 1) and confirm you can get the same value when you run it next time."
   ]
  },
  {
   "cell_type": "code",
   "execution_count": 11,
   "id": "149ce690",
   "metadata": {},
   "outputs": [
    {
     "name": "stdout",
     "output_type": "stream",
     "text": [
      "Original Array:\n",
      "[[0.04872488 0.28910966]\n",
      " [0.72096635 0.02161625]\n",
      " [0.20592277 0.05077326]]\n",
      "New Array:\n",
      "[[0.04872488 0.28910966]\n",
      " [0.72096635 0.02161625]\n",
      " [0.20592277 0.05077326]]\n"
     ]
    }
   ],
   "source": [
    "import numpy as np\n",
    "\n",
    "np.random.seed(21)\n",
    "q10 = np.random.rand(3, 2)\n",
    "print(\"Original Array:\")\n",
    "print(q10)\n",
    "\n",
    "print(\"New Array:\")\n",
    "print(q10)"
   ]
  },
  {
   "cell_type": "code",
   "execution_count": null,
   "id": "a2e0d32a",
   "metadata": {},
   "outputs": [],
   "source": []
  },
  {
   "cell_type": "markdown",
   "id": "ce26b0de",
   "metadata": {},
   "source": [
    "11). Create a 5x5 matrix with row values ranging from 0 to 4:\n",
    "\n",
    "[[0. 1. 2. 3. 4.]\n",
    "\n",
    " [0. 1. 2. 3. 4.]\n",
    "\n",
    " [0. 1. 2. 3. 4.]\n",
    "\n",
    " [0. 1. 2. 3. 4.]\n",
    "\n",
    " [0. 1. 2. 3. 4.]]"
   ]
  },
  {
   "cell_type": "code",
   "execution_count": 12,
   "id": "61a32d0c",
   "metadata": {},
   "outputs": [
    {
     "name": "stdout",
     "output_type": "stream",
     "text": [
      "[[0. 0. 0. 0. 0.]\n",
      " [0. 0. 0. 0. 0.]\n",
      " [0. 0. 0. 0. 0.]\n",
      " [0. 0. 0. 0. 0.]\n",
      " [0. 0. 0. 0. 0.]]\n",
      "[0 1 2 3 4]\n",
      "[[0. 1. 2. 3. 4.]\n",
      " [0. 1. 2. 3. 4.]\n",
      " [0. 1. 2. 3. 4.]\n",
      " [0. 1. 2. 3. 4.]\n",
      " [0. 1. 2. 3. 4.]]\n"
     ]
    }
   ],
   "source": [
    "import numpy as np\n",
    "q11 = np.zeros((5,5))\n",
    "print(q11)\n",
    "a = np.arange(5)\n",
    "print(a)\n",
    "M = q11+a\n",
    "print(M)"
   ]
  },
  {
   "cell_type": "code",
   "execution_count": null,
   "id": "14f9b62f",
   "metadata": {},
   "outputs": [],
   "source": []
  },
  {
   "cell_type": "markdown",
   "id": "a98db712",
   "metadata": {},
   "source": [
    "12). Add a border (filled with 0's) around an existing array:\n",
    "\n",
    "[[1. 1. 1. 1. 1.]\n",
    "\n",
    " [1. 1. 1. 1. 1.]\n",
    "\n",
    " [1. 1. 1. 1. 1.]\n",
    "\n",
    " [1. 1. 1. 1. 1.]\n",
    "\n",
    " [1. 1. 1. 1. 1.]]"
   ]
  },
  {
   "cell_type": "code",
   "execution_count": 13,
   "id": "e5bf7505",
   "metadata": {},
   "outputs": [
    {
     "name": "stdout",
     "output_type": "stream",
     "text": [
      "Existing array: \n",
      "[[1. 1. 1. 1. 1.]\n",
      " [1. 1. 1. 1. 1.]\n",
      " [1. 1. 1. 1. 1.]\n",
      " [1. 1. 1. 1. 1.]\n",
      " [1. 1. 1. 1. 1.]]\n",
      "New array: \n",
      "[[0. 0. 0. 0. 0. 0. 0.]\n",
      " [0. 1. 1. 1. 1. 1. 0.]\n",
      " [0. 1. 1. 1. 1. 1. 0.]\n",
      " [0. 1. 1. 1. 1. 1. 0.]\n",
      " [0. 1. 1. 1. 1. 1. 0.]\n",
      " [0. 1. 1. 1. 1. 1. 0.]\n",
      " [0. 0. 0. 0. 0. 0. 0.]]\n"
     ]
    }
   ],
   "source": [
    "import numpy as np\n",
    "q12 = np.ones((5,5))\n",
    "print(\"Existing array: \")\n",
    "print(q12)\n",
    "q12 = np.pad(q12, 1, 'constant', constant_values=0)\n",
    "print(\"New array: \")\n",
    "print(q12)"
   ]
  },
  {
   "cell_type": "code",
   "execution_count": null,
   "id": "726d5e63",
   "metadata": {},
   "outputs": [],
   "source": []
  },
  {
   "cell_type": "markdown",
   "id": "5000e4a6",
   "metadata": {},
   "source": [
    "13). Create a 5x5 2-d array with values 1,2,3,4,5 on the diagonal (3 points)\n",
    "\n",
    "[1 0 0 0 0]\n",
    "\n",
    " [0 2 0 0 0]\n",
    "\n",
    " [0 0 3 0 0]\n",
    "\n",
    " [0 0 0 4 0]\n",
    "\n",
    " [0 0 0 0 5]]\n",
    "Then, make 1,2,3,4 move below the diagonal: (3 points)\n",
    "\n",
    "[[0 0 0 0 0]\n",
    "\n",
    " [1 0 0 0 0]\n",
    "\n",
    " [0 2 0 0 0]\n",
    "\n",
    " [0 0 3 0 0]\n",
    "\n",
    " [0 0 0 4 0]]\n"
   ]
  },
  {
   "cell_type": "code",
   "execution_count": 14,
   "id": "83781e3c",
   "metadata": {},
   "outputs": [
    {
     "name": "stdout",
     "output_type": "stream",
     "text": [
      "5x5 2D array is :\n",
      "[[1 0 0 0 0]\n",
      " [0 2 0 0 0]\n",
      " [0 0 3 0 0]\n",
      " [0 0 0 4 0]\n",
      " [0 0 0 0 5]]\n",
      "New array is :\n",
      "[[0 0 0 0 0]\n",
      " [1 0 0 0 0]\n",
      " [0 2 0 0 0]\n",
      " [0 0 3 0 0]\n",
      " [0 0 0 4 0]]\n"
     ]
    }
   ],
   "source": [
    "q13 = np.zeros((5,5), dtype = int)\n",
    "for i in range(5):\n",
    "    q13[i,i] = i+1\n",
    "print(\"5x5 2D array is :\")\n",
    "print(q13)\n",
    "\n",
    "for i in range(4):\n",
    "    q13[i+1,i] = i+1\n",
    "    q13[i,i] = 0\n",
    "    q13[i+1,i+1] = 0\n",
    "print(\"New array is :\")\n",
    "print(q13)"
   ]
  },
  {
   "cell_type": "code",
   "execution_count": null,
   "id": "c8edf0cf",
   "metadata": {},
   "outputs": [],
   "source": []
  },
  {
   "cell_type": "markdown",
   "id": "50ac1179",
   "metadata": {},
   "source": [
    "14). Create a 10x10 2-d array with 1 (2 point) on the border and 0 inside (4 points).\n",
    "\n",
    "[[1. 1. 1. 1. 1. 1. 1. 1. 1. 1.]\n",
    "\n",
    " [1. 0. 0. 0. 0. 0. 0. 0. 0. 1.]\n",
    "\n",
    " [1. 0. 0. 0. 0. 0. 0. 0. 0. 1.]\n",
    "\n",
    " [1. 0. 0. 0. 0. 0. 0. 0. 0. 1.]\n",
    "\n",
    " [1. 0. 0. 0. 0. 0. 0. 0. 0. 1.]\n",
    "\n",
    " [1. 0. 0. 0. 0. 0. 0. 0. 0. 1.]\n",
    "\n",
    " [1. 0. 0. 0. 0. 0. 0. 0. 0. 1.]\n",
    "\n",
    " [1. 0. 0. 0. 0. 0. 0. 0. 0. 1.]\n",
    "\n",
    " [1. 0. 0. 0. 0. 0. 0. 0. 0. 1.]\n",
    "\n",
    " [1. 1. 1. 1. 1. 1. 1. 1. 1. 1.]]\n"
   ]
  },
  {
   "cell_type": "code",
   "execution_count": 15,
   "id": "96d2ff33",
   "metadata": {},
   "outputs": [
    {
     "data": {
      "text/plain": [
       "array([[1., 1., 1., 1., 1., 1., 1., 1., 1., 1.],\n",
       "       [1., 0., 0., 0., 0., 0., 0., 0., 0., 1.],\n",
       "       [1., 0., 0., 0., 0., 0., 0., 0., 0., 1.],\n",
       "       [1., 0., 0., 0., 0., 0., 0., 0., 0., 1.],\n",
       "       [1., 0., 0., 0., 0., 0., 0., 0., 0., 1.],\n",
       "       [1., 0., 0., 0., 0., 0., 0., 0., 0., 1.],\n",
       "       [1., 0., 0., 0., 0., 0., 0., 0., 0., 1.],\n",
       "       [1., 0., 0., 0., 0., 0., 0., 0., 0., 1.],\n",
       "       [1., 0., 0., 0., 0., 0., 0., 0., 0., 1.],\n",
       "       [1., 1., 1., 1., 1., 1., 1., 1., 1., 1.]])"
      ]
     },
     "execution_count": 15,
     "metadata": {},
     "output_type": "execute_result"
    }
   ],
   "source": [
    "q14 = np.zeros((10,10))\n",
    "q14[0,] = 1\n",
    "q14[-1,] = 1\n",
    "q14[:,0] = 1\n",
    "q14[:,-1] = 1\n",
    "q14"
   ]
  },
  {
   "cell_type": "code",
   "execution_count": null,
   "id": "f578fa9a",
   "metadata": {},
   "outputs": [],
   "source": []
  },
  {
   "cell_type": "markdown",
   "id": "7f445503",
   "metadata": {},
   "source": [
    "15). Extract the integer part of a random array of positive numbers using 2 different methods, and the result should be an integer array. "
   ]
  },
  {
   "cell_type": "code",
   "execution_count": 16,
   "id": "604dcb6b",
   "metadata": {},
   "outputs": [
    {
     "name": "stdout",
     "output_type": "stream",
     "text": [
      "Original array: \n",
      "[3 7 3 6 4 7 3 0]\n",
      "New array: \n",
      "[3 2 3 6 4 7 3 0]\n",
      "Method 1: \n",
      "[3 2 3 6 4 7 3 0]\n",
      "Method 2: \n",
      "[3 2 3 6 4 7 3 0]\n"
     ]
    }
   ],
   "source": [
    "rng = np.random.default_rng(seed=21)\n",
    "q15 = rng.integers(0,10, size=(8))\n",
    "print(\"Original array: \")\n",
    "print(q15)\n",
    "\n",
    "q15[1] = 2.3\n",
    "print(\"New array: \")\n",
    "print(q15)\n",
    "\n",
    "method1 = q15.astype(int)\n",
    "method2 = np.floor(q15).astype(int)\n",
    "print(\"Method 1: \")\n",
    "print(method1)\n",
    "\n",
    "print(\"Method 2: \")\n",
    "print(method2)"
   ]
  },
  {
   "cell_type": "code",
   "execution_count": null,
   "id": "42ce6e3e",
   "metadata": {},
   "outputs": [],
   "source": []
  },
  {
   "cell_type": "markdown",
   "id": "a4a25baf",
   "metadata": {},
   "source": [
    "### 2. Operations on Numpy Arrays: total 50 points"
   ]
  },
  {
   "cell_type": "code",
   "execution_count": 17,
   "id": "0981bb9e",
   "metadata": {},
   "outputs": [],
   "source": [
    "import numpy as np"
   ]
  },
  {
   "cell_type": "markdown",
   "id": "ddb850ef",
   "metadata": {},
   "source": [
    "1). Find the index of 5th repetition of number 1 in the given array x.\n",
    "\n",
    "x: [1, 2, 1, 1, 3, 4, 3, 1, 1, 2, 1, 1, 2]"
   ]
  },
  {
   "cell_type": "code",
   "execution_count": 18,
   "id": "b458a3c1",
   "metadata": {},
   "outputs": [
    {
     "name": "stdout",
     "output_type": "stream",
     "text": [
      "Index of the 5th respresentation of number 1 is 8\n"
     ]
    }
   ],
   "source": [
    "x = [1, 2, 1, 1, 3, 4, 3, 1, 1, 2, 1, 1, 2]\n",
    "target_val = 1\n",
    "target_rep = 5\n",
    "counter = 0\n",
    "for i,val in enumerate(x):\n",
    "    if val == target_val:\n",
    "        counter = counter+1\n",
    "        if target_rep == counter:\n",
    "            print(\"Index of the 5th respresentation of number 1 is \"+ str(i))"
   ]
  },
  {
   "cell_type": "code",
   "execution_count": null,
   "id": "852acff7",
   "metadata": {},
   "outputs": [],
   "source": []
  },
  {
   "cell_type": "markdown",
   "id": "1c3faaf3",
   "metadata": {},
   "source": [
    "2). Use np.arange to get an array [1, 2, 3, ..., 9]. Split x into 3 sub-arrays, the length of each sub-array is 4, 2, and 3."
   ]
  },
  {
   "cell_type": "code",
   "execution_count": 19,
   "id": "ed5a89fa",
   "metadata": {},
   "outputs": [
    {
     "name": "stdout",
     "output_type": "stream",
     "text": [
      "Final array is (without loop): \n",
      "[[1, 2, 3, 4], [5, 6], [7, 8, 9]]\n",
      "Final array is (with loop): \n",
      "[1 2 3 4]\n",
      "[5 6]\n",
      "[7 8 9]\n"
     ]
    }
   ],
   "source": [
    "#without loop\n",
    "q2 = np.arange(1,10)\n",
    "sub1 = q2[:4]\n",
    "sub2 = q2[4:6]\n",
    "sub3 = q2[6:]\n",
    "final_q2_1 = [sub1,sub2,sub3]\n",
    "final_q2_2 = [sub1.tolist(),sub2.tolist(),sub3.tolist()]\n",
    "print(\"Final array is (without loop): \")\n",
    "print(final_q2_2)\n",
    "\n",
    "#with loop\n",
    "q2 = np.arange(1,10)\n",
    "lengths = [4,2,3]\n",
    "subarrays = []\n",
    "start = 0\n",
    "for i in lengths:\n",
    "    end = start+i\n",
    "    subarrays.append(q2[start:end])\n",
    "    start = end\n",
    "print(\"Final array is (with loop): \")\n",
    "for i in subarrays:\n",
    "    print(i)"
   ]
  },
  {
   "cell_type": "code",
   "execution_count": null,
   "id": "b161fd4d",
   "metadata": {},
   "outputs": [],
   "source": []
  },
  {
   "cell_type": "markdown",
   "id": "e5b92d1d",
   "metadata": {},
   "source": [
    "3). Use np.arange to generate the following 2D array:\n",
    "\n",
    "[[ 0., 1., 2., 3.],\n",
    "\n",
    " [ 4., 5., 6., 7.],\n",
    "\n",
    " [ 8., 9., 10., 11.],\n",
    "\n",
    " [ 12., 13., 14., 15.]]\n",
    "Use np.split to split the array into left and right halves.\n",
    "\n",
    "[[ 0,  1],\n",
    "\n",
    " [ 4,  5],\n",
    "\n",
    " [ 8,  9],\n",
    "\n",
    " [12, 13]]\n",
    "and\n",
    "\n",
    "[[ 2,  3],\n",
    "\n",
    " [ 6,  7],\n",
    "\n",
    " [10, 11],\n",
    "\n",
    " [14, 15]]"
   ]
  },
  {
   "cell_type": "code",
   "execution_count": 20,
   "id": "7cda9bc7",
   "metadata": {},
   "outputs": [
    {
     "name": "stdout",
     "output_type": "stream",
     "text": [
      "2D array is: \n",
      "[[ 0.  1.  2.  3.]\n",
      " [ 4.  5.  6.  7.]\n",
      " [ 8.  9. 10. 11.]\n",
      " [12. 13. 14. 15.]]\n",
      "left half is: \n",
      "[[ 0  1]\n",
      " [ 4  5]\n",
      " [ 8  9]\n",
      " [12 13]]\n",
      "right half is: \n",
      "[[ 2  3]\n",
      " [ 6  7]\n",
      " [10 11]\n",
      " [14 15]]\n",
      "left half is: \n",
      "[[0, 1], [4, 5], [8, 9], [12, 13]]\n",
      "right half is: \n",
      "[[2, 3], [6, 7], [10, 11], [14, 15]]\n"
     ]
    }
   ],
   "source": [
    "q3 = np.zeros((4,4))\n",
    "q3[:] = np.arange(16).reshape(4,4)\n",
    "print(\"2D array is: \")\n",
    "print(q3)\n",
    "\n",
    "q3 = np.arange(16).reshape(4,4)\n",
    "lefthalf, righthalf = np.split(q3, 2, axis = 1)\n",
    "print(\"left half is: \")\n",
    "print(lefthalf)\n",
    "print(\"right half is: \")\n",
    "print(righthalf)\n",
    "\n",
    "print(\"left half is: \")\n",
    "print(lefthalf.tolist())\n",
    "print(\"right half is: \")\n",
    "print(righthalf.tolist())"
   ]
  },
  {
   "cell_type": "code",
   "execution_count": null,
   "id": "159e7c3a",
   "metadata": {},
   "outputs": [],
   "source": []
  },
  {
   "cell_type": "markdown",
   "id": "590d5110",
   "metadata": {},
   "source": [
    "4). Given an 2D array:\n",
    "\n",
    "[[5,10,15],\n",
    "\n",
    " [20,25,30],\n",
    "\n",
    " [35,40,45]]\n",
    "\n",
    "(1) Slicing to get the sub-array [[10,15], [25,30]]  (4 points)\n",
    "\n",
    "(2) Getting individual element value \"20\"  (2 points)"
   ]
  },
  {
   "cell_type": "code",
   "execution_count": 21,
   "id": "876aafcb",
   "metadata": {},
   "outputs": [
    {
     "name": "stdout",
     "output_type": "stream",
     "text": [
      "1. Sliced array is: \n",
      "[[10, 15], [25, 30]]\n",
      "2. Element found: \n",
      "20\n"
     ]
    }
   ],
   "source": [
    "q4 = np.array([[5,10,15],[20,25,30], [35,40,45]])\n",
    "\n",
    "q4_1 = q4[0:2,1:3].tolist()\n",
    "print(\"1. Sliced array is: \")\n",
    "print(q4_1)\n",
    "\n",
    "q4_2 = q4[1,0]\n",
    "print(\"2. Element found: \")\n",
    "print(q4_2)"
   ]
  },
  {
   "cell_type": "code",
   "execution_count": null,
   "id": "19dbdca8",
   "metadata": {},
   "outputs": [],
   "source": []
  },
  {
   "cell_type": "markdown",
   "id": "b8aae1f1",
   "metadata": {},
   "source": [
    "5). Let x be an array: \n",
    "\n",
    "[[ 1 2 3],\n",
    "\n",
    " [ 4 5 6]].\n",
    "and y be an array\n",
    "\n",
    "[[ 7 8 9],\n",
    "\n",
    " [10 11 12]].\n",
    "Concatenate x and y so that a new array looks like\n",
    "\n",
    "[[1, 2, 3, 7, 8, 9],\n",
    "\n",
    " [4, 5, 6, 10, 11, 12]]."
   ]
  },
  {
   "cell_type": "code",
   "execution_count": 22,
   "id": "e8a268ba",
   "metadata": {},
   "outputs": [
    {
     "name": "stdout",
     "output_type": "stream",
     "text": [
      "Concatenated array is: \n",
      "[[1, 2, 3, 7, 8, 9], [4, 5, 6, 10, 11, 12]]\n"
     ]
    }
   ],
   "source": [
    "x = np.array([[ 1, 2, 3],[ 4, 5, 6]])\n",
    "y = np.array([[ 7, 8, 9],[10, 11, 12]])\n",
    "q5 = np.concatenate((x,y), axis = 1)\n",
    "print(\"Concatenated array is: \")\n",
    "print(q5.tolist())"
   ]
  },
  {
   "cell_type": "code",
   "execution_count": null,
   "id": "f16a788e",
   "metadata": {},
   "outputs": [],
   "source": []
  },
  {
   "cell_type": "markdown",
   "id": "09003d1c",
   "metadata": {},
   "source": [
    "6). Compute the min/max (min is divided by max) for each row for a given 2d array, in which integer values range from 1 to 10 [1,10) and shape is (5,3). (4 points)\n",
    "\n",
    "Here requires a random seed to keep the same value from the random generator. (2 points)"
   ]
  },
  {
   "cell_type": "code",
   "execution_count": 23,
   "id": "c0a6180d",
   "metadata": {},
   "outputs": [
    {
     "name": "stdout",
     "output_type": "stream",
     "text": [
      "2D array is: [[3 8 4]\n",
      " [6 5 7]\n",
      " [4 1 3]\n",
      " [6 6 9]\n",
      " [3 4 9]]\n",
      "min/max for row 0 where min is 3 and max is 8 is 0.375\n",
      "min/max for row 1 where min is 5 and max is 7 is 0.7142857142857143\n",
      "min/max for row 2 where min is 1 and max is 4 is 0.25\n",
      "min/max for row 3 where min is 6 and max is 9 is 0.6666666666666666\n",
      "min/max for row 4 where min is 3 and max is 9 is 0.3333333333333333\n"
     ]
    }
   ],
   "source": [
    "import numpy as np\n",
    "rng = np.random.default_rng(seed=21)\n",
    "q6 = rng.integers(1,10, size=(5, 3))\n",
    "print(\"2D array is: \"+str(q6))\n",
    "\n",
    "for i,val in enumerate(q6):\n",
    "    min_val = np.min(q6[i])\n",
    "    max_val = np.max(q6[i])\n",
    "    div_val = min_val/max_val\n",
    "    print(\"min/max for row \"+str(i)+\" where min is \"+str(min_val)+\" and max is \"+str(max_val)+ \" is \"+str(div_val))"
   ]
  },
  {
   "cell_type": "code",
   "execution_count": null,
   "id": "cc431070",
   "metadata": {},
   "outputs": [],
   "source": []
  },
  {
   "cell_type": "markdown",
   "id": "1e4a625b",
   "metadata": {},
   "source": [
    "7). Normalize a 5x5 random matrix:\n",
    "\n",
    "Tips: a normalization operates like: (the array - the mean)/the standard deviation"
   ]
  },
  {
   "cell_type": "code",
   "execution_count": 24,
   "id": "8921565e",
   "metadata": {},
   "outputs": [
    {
     "name": "stdout",
     "output_type": "stream",
     "text": [
      "5x5 matrix is: \n",
      "[[3 8 4 6 5]\n",
      " [7 4 1 3 6]\n",
      " [6 9 3 4 9]\n",
      " [2 7 9 9 7]\n",
      " [9 2 7 7 5]]\n",
      "Mean of matrix is: \n",
      "5.68\n",
      "Standard deviation of matrix is: \n",
      "2.44491308638978\n",
      "Normalized matrix is: \n",
      "[[-1.09615348  0.94890899 -0.68714099  0.130884   -0.2781285 ]\n",
      " [ 0.53989649 -0.68714099 -1.91417847 -1.09615348  0.130884  ]\n",
      " [ 0.130884    1.35792148 -1.09615348 -0.68714099  1.35792148]\n",
      " [-1.50516598  0.53989649  1.35792148  1.35792148  0.53989649]\n",
      " [ 1.35792148 -1.50516598  0.53989649  0.53989649 -0.2781285 ]]\n"
     ]
    }
   ],
   "source": [
    "rng = np.random.default_rng(seed=21)\n",
    "q7 = rng.integers(1,10, size=(5, 5))\n",
    "print(\"5x5 matrix is: \")\n",
    "print(q7)\n",
    "\n",
    "mean_q7 = np.mean(q7)\n",
    "print(\"Mean of matrix is: \")\n",
    "print(mean_q7)\n",
    "\n",
    "std_q7 = np.std(q7)\n",
    "print(\"Standard deviation of matrix is: \")\n",
    "print(std_q7)\n",
    "\n",
    "normal_q7 = (q7 - mean_q7)/std_q7\n",
    "print(\"Normalized matrix is: \")\n",
    "print(normal_q7)"
   ]
  },
  {
   "cell_type": "code",
   "execution_count": null,
   "id": "5f6af9cc",
   "metadata": {},
   "outputs": [],
   "source": []
  },
  {
   "cell_type": "markdown",
   "id": "eb18ffc0",
   "metadata": {},
   "source": [
    "8). Convert 3 arrays into a 1d array.\n",
    "\n",
    "arr1: 0,1,2\n",
    "\n",
    "arr2: 3,4,5,6\n",
    "\n",
    "arr3: 7,8,9\n",
    "Generate the 3 arrays by numpy arange()\n",
    "\n",
    "Desired Output:\n",
    "\n",
    "([0, 1, 2, 3, 4, 5, 6, 7, 8, 9])"
   ]
  },
  {
   "cell_type": "code",
   "execution_count": 25,
   "id": "9d96ca2c",
   "metadata": {},
   "outputs": [
    {
     "name": "stdout",
     "output_type": "stream",
     "text": [
      "Array 1 is: [0 1 2]\n",
      "Array 2 is: [3 4 5 6]\n",
      "Array 3 is: [7 8 9]\n",
      "Converted array is: \n"
     ]
    },
    {
     "data": {
      "text/plain": [
       "array([0, 1, 2, 3, 4, 5, 6, 7, 8, 9])"
      ]
     },
     "execution_count": 25,
     "metadata": {},
     "output_type": "execute_result"
    }
   ],
   "source": [
    "arr1 = np.arange(0,3)\n",
    "print(\"Array 1 is: \"+str(arr1))\n",
    "arr2 = np.arange(3,7)\n",
    "print(\"Array 2 is: \"+str(arr2))\n",
    "arr3 = np.arange(7,10)\n",
    "print(\"Array 3 is: \"+str(arr3))\n",
    "q8 = np.concatenate([arr1,arr2,arr3])\n",
    "print(\"Converted array is: \")\n",
    "q8"
   ]
  },
  {
   "cell_type": "code",
   "execution_count": null,
   "id": "d1980816",
   "metadata": {},
   "outputs": [],
   "source": []
  },
  {
   "cell_type": "markdown",
   "id": "0471eea0",
   "metadata": {},
   "source": [
    "9). Get all items between 15 and 55 from aa, math expression: [15,55].\n",
    "\n",
    "The aa is uniformly distributed integers in a 1D array (size=20) with given values (<100). Requires defining a seed."
   ]
  },
  {
   "cell_type": "code",
   "execution_count": 26,
   "id": "e60db92c",
   "metadata": {},
   "outputs": [
    {
     "name": "stdout",
     "output_type": "stream",
     "text": [
      "Array aa is: \n",
      "[30 78 39 60 47 71 35  9 30 63 62 98 24 42 94 12 70 95 91 67]\n",
      "Items between 15 and 55 from aa is: \n",
      "[30 39 47 35 30 24 42]\n"
     ]
    }
   ],
   "source": [
    "rng = np.random.default_rng(seed=21)\n",
    "aa = rng.integers(1,100, size=(20))\n",
    "print(\"Array aa is: \")\n",
    "print(aa)\n",
    "aa_15_55 = aa[(aa>=15) & (aa<=55)]\n",
    "print(\"Items between 15 and 55 from aa is: \")\n",
    "print(aa_15_55)"
   ]
  },
  {
   "cell_type": "code",
   "execution_count": null,
   "id": "aa1b2f1c",
   "metadata": {},
   "outputs": [],
   "source": []
  },
  {
   "cell_type": "markdown",
   "id": "872abd28",
   "metadata": {},
   "source": [
    "10). Get the positions where elements of a and b match.                 4 points\n",
    "\n",
    "a = np.array([1,2,3,2,3,4,3,4,5,6])\n",
    "\n",
    "b = np.array([7,2,10,2,7,4,9,4,9,8])"
   ]
  },
  {
   "cell_type": "code",
   "execution_count": 27,
   "id": "cd4ab372",
   "metadata": {},
   "outputs": [
    {
     "name": "stdout",
     "output_type": "stream",
     "text": [
      "Positions (not index) where elements of a and b match are: \n",
      "2\n",
      "4\n",
      "6\n",
      "8\n"
     ]
    }
   ],
   "source": [
    "a = np.array([1,2,3,2,3,4,3,4,5,6])\n",
    "b = np.array([7,2,10,2,7,4,9,4,9,8])\n",
    "print(\"Positions (not index) where elements of a and b match are: \")\n",
    "for i in range(a.size):\n",
    "    if a[i]==b[i]:\n",
    "        print(i+1)"
   ]
  },
  {
   "cell_type": "code",
   "execution_count": null,
   "id": "dd8573fa",
   "metadata": {},
   "outputs": [],
   "source": []
  },
  {
   "cell_type": "markdown",
   "id": "a2a46bb1",
   "metadata": {},
   "source": [
    "11). Use arange() to create an array from 0 to 20 ( [0,20) ); replace all odd numbers with -1. "
   ]
  },
  {
   "cell_type": "code",
   "execution_count": 28,
   "id": "5702b77e",
   "metadata": {},
   "outputs": [
    {
     "name": "stdout",
     "output_type": "stream",
     "text": [
      "Original array is: \n",
      "[ 0  1  2  3  4  5  6  7  8  9 10 11 12 13 14 15 16 17 18 19]\n",
      "New array is: \n",
      "[ 0 -1  2 -1  4 -1  6 -1  8 -1 10 -1 12 -1 14 -1 16 -1 18 -1]\n"
     ]
    }
   ],
   "source": [
    "q11 = np.arange(0,20)\n",
    "print(\"Original array is: \")\n",
    "print(q11)\n",
    "for i,val in enumerate(q11):\n",
    "    if val%2!=0:\n",
    "        q11[i] = -1\n",
    "print(\"New array is: \")\n",
    "print(q11)"
   ]
  },
  {
   "cell_type": "code",
   "execution_count": null,
   "id": "d7b0e376",
   "metadata": {},
   "outputs": [],
   "source": []
  },
  {
   "cell_type": "markdown",
   "id": "70f91311",
   "metadata": {},
   "source": [
    "12). Considering a four dimensions array (3,4,3,4) with the values 0-9 randomly, how to get sum over the last two axis at once? "
   ]
  },
  {
   "cell_type": "code",
   "execution_count": 29,
   "id": "e9d8a905",
   "metadata": {},
   "outputs": [
    {
     "name": "stdout",
     "output_type": "stream",
     "text": [
      "4D array is: \n",
      "[[[[3 7 3 6]\n",
      "   [4 7 3 0]\n",
      "   [2 6 6 9]]\n",
      "\n",
      "  [[2 4 9 1]\n",
      "   [7 9 9 6]\n",
      "   [8 1 7 6]]\n",
      "\n",
      "  [[5 9 8 2]\n",
      "   [9 8 3 6]\n",
      "   [7 2 2 1]]\n",
      "\n",
      "  [[4 9 3 3]\n",
      "   [9 4 0 6]\n",
      "   [7 4 9 0]]]\n",
      "\n",
      "\n",
      " [[[8 2 7 4]\n",
      "   [6 7 8 6]\n",
      "   [6 4 0 1]]\n",
      "\n",
      "  [[1 7 1 1]\n",
      "   [2 7 3 4]\n",
      "   [6 5 4 3]]\n",
      "\n",
      "  [[9 2 7 1]\n",
      "   [4 6 2 2]\n",
      "   [1 0 2 1]]\n",
      "\n",
      "  [[6 9 0 7]\n",
      "   [4 5 9 4]\n",
      "   [1 8 8 2]]]\n",
      "\n",
      "\n",
      " [[[5 6 1 0]\n",
      "   [0 6 6 9]\n",
      "   [5 7 4 0]]\n",
      "\n",
      "  [[3 5 6 3]\n",
      "   [1 9 2 0]\n",
      "   [4 0 6 0]]\n",
      "\n",
      "  [[3 3 7 8]\n",
      "   [6 5 2 6]\n",
      "   [7 0 5 1]]\n",
      "\n",
      "  [[0 3 7 6]\n",
      "   [8 7 3 5]\n",
      "   [2 2 6 1]]]]\n",
      "Sum over the last two axis at once is: \n",
      "[[56 69 62 58]\n",
      " [59 44 37 63]\n",
      " [49 39 53 50]]\n"
     ]
    }
   ],
   "source": [
    "rng = np.random.default_rng(seed=21)\n",
    "q12 = rng.integers(0,10, size=(3,4,3,4))\n",
    "print(\"4D array is: \")\n",
    "print(q12)\n",
    "\n",
    "sum_last2_q12 = np.sum(q12, axis = (-2, -1))\n",
    "print(\"Sum over the last two axis at once is: \")\n",
    "print(sum_last2_q12)"
   ]
  },
  {
   "cell_type": "code",
   "execution_count": null,
   "id": "a2b2a24e",
   "metadata": {},
   "outputs": [],
   "source": []
  }
 ],
 "metadata": {
  "kernelspec": {
   "display_name": "Python 3 (ipykernel)",
   "language": "python",
   "name": "python3"
  },
  "language_info": {
   "codemirror_mode": {
    "name": "ipython",
    "version": 3
   },
   "file_extension": ".py",
   "mimetype": "text/x-python",
   "name": "python",
   "nbconvert_exporter": "python",
   "pygments_lexer": "ipython3",
   "version": "3.9.7"
  }
 },
 "nbformat": 4,
 "nbformat_minor": 5
}
